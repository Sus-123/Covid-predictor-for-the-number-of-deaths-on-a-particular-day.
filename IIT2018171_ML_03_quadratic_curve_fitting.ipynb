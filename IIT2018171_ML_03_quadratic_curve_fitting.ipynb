{
  "nbformat": 4,
  "nbformat_minor": 0,
  "metadata": {
    "kernelspec": {
      "display_name": "Python 3",
      "language": "python",
      "name": "python3"
    },
    "language_info": {
      "codemirror_mode": {
        "name": "ipython",
        "version": 3
      },
      "file_extension": ".py",
      "mimetype": "text/x-python",
      "name": "python",
      "nbconvert_exporter": "python",
      "pygments_lexer": "ipython3",
      "version": "3.8.3"
    },
    "colab": {
      "name": "IIT2018171_ML_03_quadratic_curve_fitting.ipynb",
      "provenance": []
    }
  },
  "cells": [
    {
      "cell_type": "code",
      "metadata": {
        "id": "f0NoRaCYZpCi",
        "colab_type": "code",
        "colab": {}
      },
      "source": [
        "import csv\n",
        "import numpy as np\n",
        "import matplotlib.pyplot as plt\n",
        "from statistics import mean\n"
      ],
      "execution_count": 1,
      "outputs": []
    },
    {
      "cell_type": "code",
      "metadata": {
        "id": "tyqlxZrRZpCo",
        "colab_type": "code",
        "colab": {}
      },
      "source": [
        "x = [i+1 for i in range(22)]\n",
        "y = [0 for i in range(22)]\n",
        "x_test = [i+23 for i in range(9)]\n",
        "y_test = [0 for i in range(9)]\n"
      ],
      "execution_count": null,
      "outputs": []
    },
    {
      "cell_type": "code",
      "metadata": {
        "id": "oYecO4sTZpCt",
        "colab_type": "code",
        "colab": {}
      },
      "source": [
        "with open('india_covid_19_may.csv', 'r') as file:\n",
        "    reader = csv.reader(file)\n",
        "    counter = 0\n",
        "    for row in reader:\n",
        "        if(counter != 0):\n",
        "            if(counter < 23):\n",
        "                y[int(row[0])-1] = int(row[1])\n",
        "            else:\n",
        "                y_test[int(row[0])-23] = int(row[1])\n",
        "        counter = counter+1\n",
        "x = np.array(x, dtype=np.float64)\n",
        "y = np.array(y, dtype=np.float64)\n",
        "x_test = np.array(x_test, dtype=np.float64)\n",
        "y_test = np.array(y_test, dtype=np.float64)"
      ],
      "execution_count": null,
      "outputs": []
    },
    {
      "cell_type": "code",
      "metadata": {
        "id": "5YhE_TJEZpCy",
        "colab_type": "code",
        "colab": {}
      },
      "source": [
        "deg2, deg1, deg0 = np.polyfit(x, y, 2)"
      ],
      "execution_count": null,
      "outputs": []
    },
    {
      "cell_type": "code",
      "metadata": {
        "id": "BFS6sUI9ZpC2",
        "colab_type": "code",
        "colab": {}
      },
      "source": [
        "y_pred = [(deg2*val*val)+(deg1*val)+deg0 for val in x_test]"
      ],
      "execution_count": null,
      "outputs": []
    },
    {
      "cell_type": "code",
      "metadata": {
        "id": "GB-g8ZJyZpC6",
        "colab_type": "code",
        "colab": {}
      },
      "source": [
        "error = 0\n",
        "for i in range(9):\n",
        "    error = error + ((y_test[i] - y_pred[i]) * (y_test[i] - y_pred[i]))\n",
        "error = error/(2*np.size(x_test))"
      ],
      "execution_count": null,
      "outputs": []
    },
    {
      "cell_type": "code",
      "metadata": {
        "id": "LsZXYvyrZpC-",
        "colab_type": "code",
        "colab": {}
      },
      "source": [
        "print(\"Mean square error =\",np.sqrt(error))\n",
        "print(\"Deaths on April 20-->\")\n",
        "print(\"atchual=\",y[19],\"    predicted=\",(deg2*19*19)+(deg1*19)+deg0,\"    difference=\",abs(y[19]-((deg2*19*19)+(deg1*19)+deg0)))\n",
        "print(\"Deaths on April 20-->\")\n",
        "print(\"atchual=\",y[19],\"    predicted=\",(deg2*41*41)+(deg1*41)+deg0,\"    difference=\",abs(y[19]-((deg2*41*41)+(deg1*41)+deg0)))"
      ],
      "execution_count": null,
      "outputs": []
    },
    {
      "cell_type": "code",
      "metadata": {
        "id": "S1TiE20BZpDE",
        "colab_type": "code",
        "colab": {}
      },
      "source": [
        ""
      ],
      "execution_count": null,
      "outputs": []
    },
    {
      "cell_type": "code",
      "metadata": {
        "id": "7ZD5xXyTZpDI",
        "colab_type": "code",
        "colab": {}
      },
      "source": [
        ""
      ],
      "execution_count": null,
      "outputs": []
    },
    {
      "cell_type": "code",
      "metadata": {
        "id": "4L_KDb3TZpDM",
        "colab_type": "code",
        "colab": {}
      },
      "source": [
        ""
      ],
      "execution_count": null,
      "outputs": []
    }
  ]
}