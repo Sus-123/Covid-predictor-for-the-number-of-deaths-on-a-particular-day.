{
  "nbformat": 4,
  "nbformat_minor": 0,
  "metadata": {
    "kernelspec": {
      "display_name": "Python 3",
      "language": "python",
      "name": "python3"
    },
    "language_info": {
      "codemirror_mode": {
        "name": "ipython",
        "version": 3
      },
      "file_extension": ".py",
      "mimetype": "text/x-python",
      "name": "python",
      "nbconvert_exporter": "python",
      "pygments_lexer": "ipython3",
      "version": "3.8.3"
    },
    "colab": {
      "name": "IIT2018171_ML_03_LinearFitting.ipynb",
      "provenance": []
    }
  },
  "cells": [
    {
      "cell_type": "code",
      "metadata": {
        "id": "kXvQT67vdEEs",
        "colab_type": "code",
        "colab": {}
      },
      "source": [
        "import csv\n",
        "import numpy as np\n",
        "import matplotlib.pyplot as plt\n",
        "from statistics import mean"
      ],
      "execution_count": null,
      "outputs": []
    },
    {
      "cell_type": "code",
      "metadata": {
        "id": "rUBNuHipdEE5",
        "colab_type": "code",
        "colab": {}
      },
      "source": [
        "x = [i+1 for i in range(22)]\n",
        "y = [0 for i in range(22)]\n",
        "x_test = [i+23 for i in range(9)]\n",
        "y_test = [0 for i in range(9)]"
      ],
      "execution_count": null,
      "outputs": []
    },
    {
      "cell_type": "code",
      "metadata": {
        "id": "geOiLrhRdEFA",
        "colab_type": "code",
        "colab": {}
      },
      "source": [
        "with open('india_covid_19_may.csv', 'r') as file:\n",
        "    reader = csv.reader(file)\n",
        "    counter = 0\n",
        "    for row in reader:\n",
        "        if(counter != 0):\n",
        "            if(counter < 23):\n",
        "                y[int(row[0])-1] = int(row[1])\n",
        "            else:\n",
        "                y_test[int(row[0])-23] = int(row[1])\n",
        "        counter = counter+1\n",
        "x = np.array(x, dtype=np.float64)\n",
        "y = np.array(y, dtype=np.float64)\n",
        "x_test = np.array(x_test, dtype=np.float64)\n",
        "y_test = np.array(y_test, dtype=np.float64)"
      ],
      "execution_count": null,
      "outputs": []
    },
    {
      "cell_type": "code",
      "metadata": {
        "id": "E7q9-5FldEFG",
        "colab_type": "code",
        "colab": {}
      },
      "source": [
        "mx = mean(x)\n",
        "my = mean(y)\n",
        "mxy = mean(x * y)\n",
        "mxx = mean(x * x)\n",
        "slope = (((mx*my)-(mxy))/((mx*mx)-(mxx)))\n",
        "intercept = (((mxx*my)-(mx*mxy))/((mxx)-(mx*mx)))"
      ],
      "execution_count": null,
      "outputs": []
    },
    {
      "cell_type": "code",
      "metadata": {
        "id": "M8pHO5GFdEFL",
        "colab_type": "code",
        "colab": {}
      },
      "source": [
        "y_pred = [(slope*val)+intercept for val in x_test]"
      ],
      "execution_count": null,
      "outputs": []
    },
    {
      "cell_type": "code",
      "metadata": {
        "id": "u6Dolim8dEFP",
        "colab_type": "code",
        "colab": {}
      },
      "source": [
        "error = 0\n",
        "for i in range(9):\n",
        "    error = error + ((y_test[i] - y_pred[i]) * (y_test[i] - y_pred[i]))\n",
        "error = error/(2*np.size(x_test))"
      ],
      "execution_count": null,
      "outputs": []
    },
    {
      "cell_type": "code",
      "metadata": {
        "id": "Ke5g3A0WdEFT",
        "colab_type": "code",
        "colab": {}
      },
      "source": [
        "print(\"Mean square error is equal to =\",np.sqrt(error))\n",
        "print(\"On April 20\")\n",
        "print(\"actual=\",y[19],\"    predicted=\",(slope*19)+intercept,\"    difference=\",abs(y[19]-((slope*19)+intercept)))\n",
        "print(\"On April 20\")\n",
        "print(\"atctual=\",279,\"    predicted=\",(slope*41)+intercept,\"    difference=\",abs(279-((slope*19)+intercept)))"
      ],
      "execution_count": null,
      "outputs": []
    },
    {
      "cell_type": "code",
      "metadata": {
        "id": "ZAUZplS-dEFY",
        "colab_type": "code",
        "colab": {}
      },
      "source": [
        ""
      ],
      "execution_count": null,
      "outputs": []
    },
    {
      "cell_type": "code",
      "metadata": {
        "id": "1vq-pygbdEFc",
        "colab_type": "code",
        "colab": {}
      },
      "source": [
        ""
      ],
      "execution_count": null,
      "outputs": []
    },
    {
      "cell_type": "code",
      "metadata": {
        "id": "JLWPQa6FdEFf",
        "colab_type": "code",
        "colab": {}
      },
      "source": [
        ""
      ],
      "execution_count": null,
      "outputs": []
    }
  ]
}